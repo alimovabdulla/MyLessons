{
 "cells": [
  {
   "cell_type": "markdown",
   "id": "7jL8Hz3g8kX8",
   "metadata": {
    "id": "7jL8Hz3g8kX8"
   },
   "source": []
  },
  {
   "cell_type": "code",
   "execution_count": 6,
   "id": "7bfd181c",
   "metadata": {
    "id": "7bfd181c"
   },
   "outputs": [],
   "source": [
    "import pandas as pd\n",
    "import numpy as np\n",
    " \n",
    "import matplotlib.pyplot as plt"
   ]
  },
  {
   "cell_type": "code",
   "execution_count": 7,
   "id": "bce3cd18",
   "metadata": {
    "id": "bce3cd18"
   },
   "outputs": [
    {
     "data": {
      "text/html": [
       "<div>\n",
       "<style scoped>\n",
       "    .dataframe tbody tr th:only-of-type {\n",
       "        vertical-align: middle;\n",
       "    }\n",
       "\n",
       "    .dataframe tbody tr th {\n",
       "        vertical-align: top;\n",
       "    }\n",
       "\n",
       "    .dataframe thead th {\n",
       "        text-align: right;\n",
       "    }\n",
       "</style>\n",
       "<table border=\"1\" class=\"dataframe\">\n",
       "  <thead>\n",
       "    <tr style=\"text-align: right;\">\n",
       "      <th></th>\n",
       "      <th>Customer ID</th>\n",
       "      <th>Transaction Amount</th>\n",
       "      <th>Date</th>\n",
       "      <th>Merchant Name</th>\n",
       "      <th>Category</th>\n",
       "    </tr>\n",
       "  </thead>\n",
       "  <tbody>\n",
       "    <tr>\n",
       "      <th>0</th>\n",
       "      <td>752858</td>\n",
       "      <td>35.47</td>\n",
       "      <td>2023-04-03</td>\n",
       "      <td>Smith-Russell</td>\n",
       "      <td>Cosmetic</td>\n",
       "    </tr>\n",
       "    <tr>\n",
       "      <th>1</th>\n",
       "      <td>26381</td>\n",
       "      <td>2552.72</td>\n",
       "      <td>2023-07-17</td>\n",
       "      <td>Peck, Spence and Young</td>\n",
       "      <td>Travel</td>\n",
       "    </tr>\n",
       "    <tr>\n",
       "      <th>2</th>\n",
       "      <td>305449</td>\n",
       "      <td>115.97</td>\n",
       "      <td>2023-09-20</td>\n",
       "      <td>Steele Inc</td>\n",
       "      <td>Clothing</td>\n",
       "    </tr>\n",
       "    <tr>\n",
       "      <th>3</th>\n",
       "      <td>988259</td>\n",
       "      <td>11.31</td>\n",
       "      <td>2023-01-11</td>\n",
       "      <td>Wilson, Wilson and Russell</td>\n",
       "      <td>Cosmetic</td>\n",
       "    </tr>\n",
       "    <tr>\n",
       "      <th>4</th>\n",
       "      <td>764762</td>\n",
       "      <td>62.21</td>\n",
       "      <td>2023-06-13</td>\n",
       "      <td>Palmer-Hinton</td>\n",
       "      <td>Electronics</td>\n",
       "    </tr>\n",
       "  </tbody>\n",
       "</table>\n",
       "</div>"
      ],
      "text/plain": [
       "   Customer ID  Transaction Amount        Date               Merchant Name  \\\n",
       "0       752858               35.47  2023-04-03               Smith-Russell   \n",
       "1        26381             2552.72  2023-07-17      Peck, Spence and Young   \n",
       "2       305449              115.97  2023-09-20                  Steele Inc   \n",
       "3       988259               11.31  2023-01-11  Wilson, Wilson and Russell   \n",
       "4       764762               62.21  2023-06-13               Palmer-Hinton   \n",
       "\n",
       "      Category  \n",
       "0     Cosmetic  \n",
       "1       Travel  \n",
       "2     Clothing  \n",
       "3     Cosmetic  \n",
       "4  Electronics  "
      ]
     },
     "execution_count": 7,
     "metadata": {},
     "output_type": "execute_result"
    }
   ],
   "source": [
    "df_customer_data = pd.read_csv(r\"C:\\Users\\ASUS\\Desktop\\customer_data.csv\")\n",
    "df_transaction_data = pd.read_csv(r\"C:\\Users\\ASUS\\Desktop\\transaction_data.csv\")\n",
    "df_customer_data.head()\n",
    "df_transaction_data.head()"
   ]
  },
  {
   "cell_type": "code",
   "execution_count": null,
   "id": "8a1a539d",
   "metadata": {
    "id": "8a1a539d"
   },
   "outputs": [],
   "source": [
    "# Name ve Surname sutunlari birleshdirib Full_name sutunu yaradin\n",
    "df_customer_data['Full_name'] = (df_customer_data['Name']+' '+df_customer_data['Surname'])\n",
    "df_customer_data"
   ]
  },
  {
   "cell_type": "code",
   "execution_count": null,
   "id": "c22493b1",
   "metadata": {
    "id": "c22493b1"
   },
   "outputs": [],
   "source": [
    "# Birthdate sutununu uch hiseye ayirib Year, Month ve Day sutunlari yaradin\n",
    "df_customer_data['Birthdate'] = pd.to_datetime(df_customer_data['Birthdate'])\n",
    "df_customer_data['Year'] =  df_customer_data['Birthdate'].dt.year\n",
    "df_customer_data['Month'] = df_customer_data['Birthdate'].dt.month\n",
    "df_customer_data['Day'] = df_customer_data['Birthdate'].dt.day\n",
    "df_customer_data"
   ]
  },
  {
   "cell_type": "code",
   "execution_count": null,
   "id": "5851168f",
   "metadata": {
    "id": "5851168f"
   },
   "outputs": [],
   "source": [
    "# Month sutununda regemleri ay adlarina deyishin (january, february ve s.)\n",
    "# pd.cut ile ay numaralarını ay isimlerine dönüştürme\n",
    "df_customer_data[\"Month\"] = pd.cut(\n",
    "    df_customer_data[\"Month\"],\n",
    "    bins=[0, 1, 2, 3, 4, 5, 6, 7, 8, 9, 10, 11, 12],\n",
    "    labels=[\n",
    "        \"Yanvar\",\n",
    "        \"Fevral\",\n",
    "        \"Mart\",\n",
    "        \"Aprel\",\n",
    "        \"May\",\n",
    "        \"Iyun\",\n",
    "        \"Iyul\",\n",
    "        \"Avgust\",\n",
    "        \"Sentyabr\",\n",
    "        \"Oktyabr\",\n",
    "        \"Noyabr\",\n",
    "        \"Dekabr\"\n",
    "    ],\n",
    ")\n",
    "df_customer_data"
   ]
  },
  {
   "cell_type": "code",
   "execution_count": 37,
   "id": "30bd41b0",
   "metadata": {
    "id": "30bd41b0"
   },
   "outputs": [
    {
     "data": {
      "text/plain": [
       "<Axes: xlabel='Birthdate'>"
      ]
     },
     "execution_count": 37,
     "metadata": {},
     "output_type": "execute_result"
    },
    {
     "data": {
      "image/png": "[encoded data removed]",
      "text/plain": [
       "<Figure size 1000x500 with 1 Axes>"
      ]
     },
     "metadata": {},
     "output_type": "display_data"
    }
   ],
   "source": [
    "# Ayin gunleri uzre neche neferin doguldugunu gosteren histogram qurun(meselen her ayin biri 5 nefer, her ayin ikisi 10 nefer ve s.)\n",
    "df_customer_data['Birthdate'].dt.day.value_counts().sort_index().plot(kind='bar', color='green', figsize=(10,5))\n"
   ]
  },
  {
   "cell_type": "code",
   "execution_count": null,
   "id": "93bf11e3",
   "metadata": {
    "id": "93bf11e3"
   },
   "outputs": [],
   "source": [
    "# Hər Category üzrə datasetdə neçə sətir olduğunu və orta Transaction Amount göstərən sütun yaradın\n",
    "category_counts = df_transaction_data.groupby('Category')['Transaction Amount'].count()   \n",
    "category_means = df_transaction_data.groupby('Category')['Transaction Amount'].mean()  \n",
    "\n",
    " \n",
    "df_transaction_data['Category_count'] = df_transaction_data['Category'].map(category_counts)\n",
    "df_transaction_data['Category_avg_Transaction_Amount'] = df_transaction_data['Category'].map(category_means)\n",
    "\n",
    "df_transaction_data\n"
   ]
  },
  {
   "cell_type": "code",
   "execution_count": null,
   "id": "6aa187b2",
   "metadata": {
    "id": "6aa187b2"
   },
   "outputs": [],
   "source": [
    "# Customer ID sutunu ile iki dataseti birleshtirin\n",
    "df = pd.merge(df_transaction_data,df_customer_data, on='Customer ID', how='inner')\n",
    "df"
   ]
  },
  {
   "cell_type": "code",
   "execution_count": 77,
   "id": "26c6424f",
   "metadata": {
    "id": "26c6424f"
   },
   "outputs": [
    {
     "data": {
      "text/plain": [
       "'Johnson PLC'"
      ]
     },
     "execution_count": 77,
     "metadata": {},
     "output_type": "execute_result"
    }
   ],
   "source": [
    "# Clothing Category-asinda en chox emeliyyat eden adami tapin (Full_name)\n",
    " \n",
    "clothing_df = df_transaction_data[df_transaction_data['Category'] == 'Clothing']\n",
    "umumi_satis = clothing_df.groupby('Merchant Name')['Transaction Amount'].sum()\n",
    "en_cox = umumi_satis.idxmax()\n",
    "en_cox"
   ]
  },
  {
   "cell_type": "code",
   "execution_count": null,
   "id": "d8ce59b7",
   "metadata": {},
   "outputs": [],
   "source": []
  }
 ],
 "metadata": {
  "colab": {
   "provenance": []
  },
  "kernelspec": {
   "display_name": "Ders",
   "language": "python",
   "name": "python3"
  },
  "language_info": {
   "codemirror_mode": {
    "name": "ipython",
    "version": 3
   },
   "file_extension": ".py",
   "mimetype": "text/x-python",
   "name": "python",
   "nbconvert_exporter": "python",
   "pygments_lexer": "ipython3",
   "version": "3.12.7"
  }
 },
 "nbformat": 4,
 "nbformat_minor": 5
}
