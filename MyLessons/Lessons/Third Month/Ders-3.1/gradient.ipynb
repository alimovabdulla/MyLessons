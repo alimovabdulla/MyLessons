{
 "cells": [
  {
   "cell_type": "code",
   "execution_count": null,
   "metadata": {},
   "outputs": [],
   "source": [
    "print(\"\")"
   ]
  },
  {
   "cell_type": "code",
   "execution_count": 1,
   "metadata": {},
   "outputs": [],
   "source": [
    "from IPython.display import display ,Math"
   ]
  },
  {
   "cell_type": "code",
   "execution_count": 2,
   "metadata": {},
   "outputs": [
    {
     "data": {
      "text/latex": [
       "$\\displaystyle J(\\theta) = \\frac{1}{2m} \\sum_{i=1}^m \\left( h_\\theta(x^{(i)}) - y^{(i)} \\right)^2$"
      ],
      "text/plain": [
       "<IPython.core.display.Math object>"
      ]
     },
     "metadata": {},
     "output_type": "display_data"
    }
   ],
   "source": [
    "display(Math(r'J(\\theta) = \\frac{1}{2m} \\sum_{i=1}^m \\left( h_\\theta(x^{(i)}) - y^{(i)} \\right)^2'))\n"
   ]
  },
  {
   "cell_type": "code",
   "execution_count": 6,
   "metadata": {},
   "outputs": [
    {
     "data": {
      "text/latex": [
       "$\\displaystyle h_\\theta(x)=\\theta_0+\\theta_1x$"
      ],
      "text/plain": [
       "<IPython.core.display.Math object>"
      ]
     },
     "metadata": {},
     "output_type": "display_data"
    }
   ],
   "source": [
    "display(Math((r\"h_\\theta(x)=\\theta_0+\\theta_1x\")))"
   ]
  },
  {
   "cell_type": "code",
   "execution_count": 8,
   "metadata": {},
   "outputs": [],
   "source": [
    "j = 1/2*20*(0.95-0.76)**2"
   ]
  },
  {
   "cell_type": "code",
   "execution_count": 9,
   "metadata": {},
   "outputs": [
    {
     "data": {
      "text/plain": [
       "0.36099999999999977"
      ]
     },
     "execution_count": 9,
     "metadata": {},
     "output_type": "execute_result"
    }
   ],
   "source": [
    "j"
   ]
  },
  {
   "cell_type": "code",
   "execution_count": 10,
   "metadata": {},
   "outputs": [],
   "source": [
    "# e*j(tetha)/e*(tetha>j)"
   ]
  },
  {
   "cell_type": "code",
   "execution_count": 15,
   "metadata": {},
   "outputs": [
    {
     "data": {
      "text/latex": [
       "$\\displaystyle \\theta_j := \\theta_j - \\alpha \\cdot \\frac{\\partial J(\\theta)}{\\partial \\theta_j}$"
      ],
      "text/plain": [
       "<IPython.core.display.Math object>"
      ]
     },
     "metadata": {},
     "output_type": "display_data"
    }
   ],
   "source": [
    "#learning rate tesadufi parametrlerden baslayir(tetha(0),tetha(1))\n",
    "display(Math(r\"\\theta_j := \\theta_j - \\alpha \\cdot \\frac{\\partial J(\\theta)}{\\partial \\theta_j}\"))"
   ]
  },
  {
   "cell_type": "code",
   "execution_count": 16,
   "metadata": {},
   "outputs": [
    {
     "data": {
      "text/latex": [
       "$\\displaystyle \\theta_j := \\theta_j - \\alpha \\cdot \\frac{\\partial J(\\theta;x^i,y^i)}{\\partial \\theta_j}$"
      ],
      "text/plain": [
       "<IPython.core.display.Math object>"
      ]
     },
     "metadata": {},
     "output_type": "display_data"
    }
   ],
   "source": [
    "#sgd ->> stochastic gradient descent\n",
    "\n",
    "display(Math(r\"\\theta_j := \\theta_j - \\alpha \\cdot \\frac{\\partial J(\\theta;x^i,y^i)}{\\partial \\theta_j}\"))"
   ]
  },
  {
   "cell_type": "code",
   "execution_count": 17,
   "metadata": {},
   "outputs": [],
   "source": [
    "def sgd(x,y,tetha,learning_rate,iteration):\n",
    "    m = len(y)\n",
    "    for _ in range(iteration):\n",
    "        for i in range(m):\n",
    "            xi = x[i,:].reshape(1,-1)\n",
    "            yi = y[i]\n",
    "            prediction = xi.dot(tetha)\n",
    "            error = prediction - yi\n",
    "            gradient = xi.T*error\n",
    "            tetha -= learning_rate * gradient\n",
    "    return tetha \n"
   ]
  },
  {
   "cell_type": "code",
   "execution_count": null,
   "metadata": {},
   "outputs": [
    {
     "data": {
      "text/latex": [
       "$\\displaystyle v_t = \\beta v_{t-1} + (1 - \\beta) \\cdot \\nabla_\\theta J(\\theta)$"
      ],
      "text/plain": [
       "<IPython.core.display.Math object>"
      ]
     },
     "metadata": {},
     "output_type": "display_data"
    }
   ],
   "source": [
    "#momentum optimizer dusturu \n",
    "display(Math(r\"v_t = \\beta v_{t-1} + (1 - \\beta) \\cdot \\nabla_\\theta J(\\theta)\"))"
   ]
  },
  {
   "cell_type": "code",
   "execution_count": null,
   "metadata": {},
   "outputs": [
    {
     "data": {
      "text/plain": [
       "array([[1., 1.],\n",
       "       [1., 2.],\n",
       "       [1., 3.],\n",
       "       [1., 4.],\n",
       "       [1., 5.],\n",
       "       [1., 6.]])"
      ]
     },
     "execution_count": 25,
     "metadata": {},
     "output_type": "execute_result"
    }
   ],
   "source": []
  },
  {
   "cell_type": "code",
   "execution_count": 28,
   "metadata": {},
   "outputs": [
    {
     "ename": "ValueError",
     "evalue": "operands could not be broadcast together with shapes (6,1) (5,1) ",
     "output_type": "error",
     "traceback": [
      "\u001b[1;31m---------------------------------------------------------------------------\u001b[0m",
      "\u001b[1;31mValueError\u001b[0m                                Traceback (most recent call last)",
      "Cell \u001b[1;32mIn[28], line 25\u001b[0m\n\u001b[0;32m     23\u001b[0m         cost_h\u001b[38;5;241m.\u001b[39mappend(c_f(X,y,tetha))\n\u001b[0;32m     24\u001b[0m     \u001b[38;5;28;01mreturn\u001b[39;00m tetha,cost_h\n\u001b[1;32m---> 25\u001b[0m tetha,cost_h \u001b[38;5;241m=\u001b[39m \u001b[43mg_d\u001b[49m\u001b[43m(\u001b[49m\u001b[43mX\u001b[49m\u001b[43m,\u001b[49m\u001b[43my\u001b[49m\u001b[43m,\u001b[49m\u001b[43mtetha\u001b[49m\u001b[43m,\u001b[49m\u001b[43malpha\u001b[49m\u001b[43m,\u001b[49m\u001b[43miterations\u001b[49m\u001b[43m)\u001b[49m\n",
      "Cell \u001b[1;32mIn[28], line 20\u001b[0m, in \u001b[0;36mg_d\u001b[1;34m(X, y, tetha, alpha, iterations)\u001b[0m\n\u001b[0;32m     18\u001b[0m \u001b[38;5;28;01mfor\u001b[39;00m i \u001b[38;5;129;01min\u001b[39;00m \u001b[38;5;28mrange\u001b[39m(iterations):\n\u001b[0;32m     19\u001b[0m     predictions \u001b[38;5;241m=\u001b[39m X\u001b[38;5;241m.\u001b[39mdot(tetha)\n\u001b[1;32m---> 20\u001b[0m     errors \u001b[38;5;241m=\u001b[39m \u001b[43mpredictions\u001b[49m\u001b[43m \u001b[49m\u001b[38;5;241;43m-\u001b[39;49m\u001b[43m \u001b[49m\u001b[43my\u001b[49m\u001b[38;5;241;43m.\u001b[39;49m\u001b[43mreshape\u001b[49m\u001b[43m(\u001b[49m\u001b[38;5;241;43m-\u001b[39;49m\u001b[38;5;241;43m1\u001b[39;49m\u001b[43m,\u001b[49m\u001b[38;5;241;43m1\u001b[39;49m\u001b[43m)\u001b[49m\n\u001b[0;32m     21\u001b[0m     gradient \u001b[38;5;241m=\u001b[39m (\u001b[38;5;241m1\u001b[39m\u001b[38;5;241m/\u001b[39mm) \u001b[38;5;241m*\u001b[39m X\u001b[38;5;241m.\u001b[39mT\u001b[38;5;241m.\u001b[39mdot(errors)\n\u001b[0;32m     22\u001b[0m     tetha \u001b[38;5;241m-\u001b[39m\u001b[38;5;241m=\u001b[39m alpha \u001b[38;5;241m*\u001b[39m gradient\n",
      "\u001b[1;31mValueError\u001b[0m: operands could not be broadcast together with shapes (6,1) (5,1) "
     ]
    }
   ],
   "source": [
    "import numpy as np \n",
    "import matplotlib.pyplot as plt \n",
    "X = np.array([1,2,3,4,5,6])\n",
    "y = np.array([1,2,1.3,3.75,2.25])\n",
    "X = X.reshape(-1,1)\n",
    "X = np.c_[np.ones(X.shape[0]),X]\n",
    "tetha = np.random.rand(2,1)\n",
    "alpha = 0.1\n",
    "iterations = 1000\n",
    "def c_f(X,y,tetha):\n",
    "    m = len(y)\n",
    "    predictions = X.dot(tetha)\n",
    "    cost = (1/(2*m)) * np.sum(np.square(predictions - y.reshape(-1,1)))\n",
    "    return cost\n",
    "def g_d(X,y,tetha,alpha,iterations):\n",
    "    m = len(y)\n",
    "    cost_h = []\n",
    "    for i in range(iterations):\n",
    "        predictions = X.dot(tetha)\n",
    "        errors = predictions - y.reshape(-1,1)\n",
    "        gradient = (1/m) * X.T.dot(errors)\n",
    "        tetha -= alpha * gradient\n",
    "        cost_h.append(c_f(X,y,tetha))\n",
    "    return tetha,cost_h\n",
    "tetha,cost_h = g_d(X,y,tetha,alpha,iterations)\n",
    "\n"
   ]
  },
  {
   "cell_type": "code",
   "execution_count": 30,
   "metadata": {},
   "outputs": [
    {
     "data": {
      "image/png": "[encoded data removed]",
      "text/plain": [
       "<Figure size 640x480 with 1 Axes>"
      ]
     },
     "metadata": {},
     "output_type": "display_data"
    },
    {
     "name": "stdout",
     "output_type": "stream",
     "text": [
      "optimizasia olunmus params (tetha): [[0.585]\n",
      " [0.525]]\n"
     ]
    }
   ],
   "source": [
    "import numpy as np \n",
    "import matplotlib.pyplot as plt \n",
    "\n",
    "# Original data\n",
    "X = np.array([1, 2, 3, 4, 5, 6])\n",
    "y = np.array([1, 2, 1.3, 3.75, 2.75])\n",
    "\n",
    "# Adjust X to have the same number of samples as y\n",
    "X = X[:-1]  # Remove the last element from X\n",
    "X = X.reshape(-1, 1)\n",
    "X = np.c_[np.ones(X.shape[0]), X]  # Add a bias term\n",
    "\n",
    "# Initialize parameters\n",
    "tetha = np.random.rand(2, 1)\n",
    "alpha = 0.1\n",
    "iterations = 1000\n",
    "\n",
    "# Cost function\n",
    "def c_f(X, y, tetha):\n",
    "    m = len(y)\n",
    "    predictions = X.dot(tetha)\n",
    "    cost = (1/(2*m)) * np.sum(np.square(predictions - y.reshape(-1, 1)))\n",
    "    return cost\n",
    "\n",
    "# Gradient descent function\n",
    "def g_d(X, y, tetha, alpha, iterations):\n",
    "    m = len(y)\n",
    "    cost_h = []\n",
    "    for i in range(iterations):\n",
    "        predictions = X.dot(tetha)\n",
    "        errors = predictions - y.reshape(-1, 1)\n",
    "        gradient = (1/m) * X.T.dot(errors)\n",
    "        tetha -= alpha * gradient\n",
    "        cost_h.append(c_f(X, y, tetha))\n",
    "    return tetha, cost_h\n",
    "\n",
    "# Run gradient descent\n",
    "tetha, cost_h = g_d(X, y, tetha, alpha, iterations)\n",
    "plt.plot(range(iterations),cost_h)\n",
    "plt.xlabel(\"iterasia\")\n",
    "plt.ylabel(\"cost function\")\n",
    "plt.title(\"gradientin cost functiona gore azalmasi\")\n",
    "plt.show()\n",
    "# Print final parameters\n",
    "print(\"optimizasia olunmus params (tetha):\", tetha)"
   ]
  },
  {
   "cell_type": "code",
   "execution_count": null,
   "metadata": {},
   "outputs": [
    {
     "data": {
      "text/plain": [
       "<function matplotlib.pyplot.autoscale(enable: 'bool' = True, axis: \"Literal['both', 'x', 'y']\" = 'both', tight: 'bool | None' = None) -> 'None'>"
      ]
     },
     "execution_count": 31,
     "metadata": {},
     "output_type": "execute_result"
    }
   ],
   "source": []
  },
  {
   "cell_type": "code",
   "execution_count": null,
   "metadata": {},
   "outputs": [],
   "source": []
  },
  {
   "cell_type": "code",
   "execution_count": null,
   "metadata": {},
   "outputs": [],
   "source": []
  }
 ],
 "metadata": {
  "kernelspec": {
   "display_name": "Python 3",
   "language": "python",
   "name": "python3"
  },
  "language_info": {
   "codemirror_mode": {
    "name": "ipython",
    "version": 3
   },
   "file_extension": ".py",
   "mimetype": "text/x-python",
   "name": "python",
   "nbconvert_exporter": "python",
   "pygments_lexer": "ipython3",
   "version": "3.12.1"
  }
 },
 "nbformat": 4,
 "nbformat_minor": 2
}
